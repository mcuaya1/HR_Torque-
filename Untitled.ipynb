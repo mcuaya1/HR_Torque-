{
 "cells": [
  {
   "cell_type": "code",
   "execution_count": 1,
   "id": "522128fe-72bf-4dca-bed8-19816b5c09cd",
   "metadata": {},
   "outputs": [
    {
     "name": "stdout",
     "output_type": "stream",
     "text": [
      "Collecting python-can\n",
      "  Downloading python_can-4.3.1-py3-none-any.whl.metadata (8.7 kB)\n",
      "Collecting wrapt~=1.10 (from python-can)\n",
      "  Downloading wrapt-1.16.0-cp312-cp312-manylinux_2_5_x86_64.manylinux1_x86_64.manylinux_2_17_x86_64.manylinux2014_x86_64.whl.metadata (6.6 kB)\n",
      "Requirement already satisfied: packaging>=23.1 in /home/team/miniconda3/envs/socketcan-env/lib/python3.12/site-packages (from python-can) (23.2)\n",
      "Collecting typing-extensions>=3.10.0.0 (from python-can)\n",
      "  Downloading typing_extensions-4.9.0-py3-none-any.whl.metadata (3.0 kB)\n",
      "Collecting msgpack~=1.0.0 (from python-can)\n",
      "  Downloading msgpack-1.0.7-cp312-cp312-manylinux_2_17_x86_64.manylinux2014_x86_64.whl.metadata (9.1 kB)\n",
      "Downloading python_can-4.3.1-py3-none-any.whl (262 kB)\n",
      "\u001b[2K   \u001b[38;2;114;156;31m━━━━━━━━━━━━━━━━━━━━━━━━━━━━━━━━━━━━━━━━\u001b[0m \u001b[32m262.1/262.1 kB\u001b[0m \u001b[31m4.4 MB/s\u001b[0m eta \u001b[36m0:00:00\u001b[0m[31m5.3 MB/s\u001b[0m eta \u001b[36m0:00:01\u001b[0m\n",
      "\u001b[?25hDownloading msgpack-1.0.7-cp312-cp312-manylinux_2_17_x86_64.manylinux2014_x86_64.whl (559 kB)\n",
      "\u001b[2K   \u001b[38;2;114;156;31m━━━━━━━━━━━━━━━━━━━━━━━━━━━━━━━━━━━━━━━━\u001b[0m \u001b[32m559.0/559.0 kB\u001b[0m \u001b[31m4.6 MB/s\u001b[0m eta \u001b[36m0:00:00\u001b[0mm eta \u001b[36m0:00:01\u001b[0m[36m0:00:01\u001b[0m\n",
      "\u001b[?25hDownloading typing_extensions-4.9.0-py3-none-any.whl (32 kB)\n",
      "Downloading wrapt-1.16.0-cp312-cp312-manylinux_2_5_x86_64.manylinux1_x86_64.manylinux_2_17_x86_64.manylinux2014_x86_64.whl (87 kB)\n",
      "\u001b[2K   \u001b[38;2;114;156;31m━━━━━━━━━━━━━━━━━━━━━━━━━━━━━━━━━━━━━━━━\u001b[0m \u001b[32m87.3/87.3 kB\u001b[0m \u001b[31m3.0 MB/s\u001b[0m eta \u001b[36m0:00:00\u001b[0m\n",
      "\u001b[?25hInstalling collected packages: wrapt, typing-extensions, msgpack, python-can\n",
      "Successfully installed msgpack-1.0.7 python-can-4.3.1 typing-extensions-4.9.0 wrapt-1.16.0\n",
      "Note: you may need to restart the kernel to use updated packages.\n"
     ]
    }
   ],
   "source": [
    "pip install python-can"
   ]
  },
  {
   "cell_type": "code",
   "execution_count": 13,
   "id": "89fe9fe0-f49c-45b1-b5c2-02c4f0521873",
   "metadata": {},
   "outputs": [
    {
     "name": "stdout",
     "output_type": "stream",
     "text": [
      "Message sent on Virtual bus channel virtual-bus\n"
     ]
    }
   ],
   "source": [
    "import can\n",
    "import struct \n",
    "\n",
    "def send_one(torque):\n",
    "    \"\"\"Sends a single message.\"\"\"\n",
    "    #bus = can.Bus(interface='socketcan', channel='can0', bitrate=500000)\n",
    "    # this uses the default configuration (for example from the config file)\n",
    "    # see https://python-can.readthedocs.io/en/stable/configuration.html\n",
    "    with can.ThreadSafeBus('virtual-bus', bustype='virtual') as bus:\n",
    "        # Using specific buses works similar:\n",
    "        #use can0 for real, vcan0 for virtual\n",
    "        # bus = can.Bus(interface='pcan', channel='PCAN_USBBUS1', bitrate=250000)\n",
    "        # bus = can.Bus(interface='ixxat', channel=0, bitrate=250000)\n",
    "        # bus = can.Bus(interface='vector', app_name='CANalyzer', channel=0, bitrate=250000)\n",
    "        # ...\n",
    "        \n",
    "        #torque must be smooth function returning value between between 0 and 1\n",
    "        torquebyte1, torquebyte2 = struct.pack('<h',torque)\n",
    "        speedbyte1 = 0\n",
    "        speedbyte2 = 0\n",
    "        directioncommand = 1\n",
    "        inverterruncommand = 1\n",
    "        #last two bits are torque limits, disregard for us\n",
    "        command_msg = can.Message(\n",
    "            arbitration_id=0x0C0, data=[torquebyte1, torquebyte2, speedbyte1, speedbyte2, 1, 1, 0, 0], is_extended_id=False\n",
    "        )\n",
    "\n",
    "        try:\n",
    "            bus.send(command_msg)\n",
    "            print(f\"Message sent on {bus.channel_info}\")\n",
    "        except can.CanError:\n",
    "            print(\"Message NOT sent\")\n",
    "\n",
    "send_one(10)"
   ]
  },
  {
   "cell_type": "code",
   "execution_count": null,
   "id": "db51790e-c384-4222-b2f7-37d44bf73e9f",
   "metadata": {},
   "outputs": [],
   "source": []
  }
 ],
 "metadata": {
  "kernelspec": {
   "display_name": "Python 3 (ipykernel)",
   "language": "python",
   "name": "python3"
  },
  "language_info": {
   "codemirror_mode": {
    "name": "ipython",
    "version": 3
   },
   "file_extension": ".py",
   "mimetype": "text/x-python",
   "name": "python",
   "nbconvert_exporter": "python",
   "pygments_lexer": "ipython3",
   "version": "3.12.1"
  }
 },
 "nbformat": 4,
 "nbformat_minor": 5
}
